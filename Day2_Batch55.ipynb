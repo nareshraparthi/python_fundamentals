{
 "cells": [
  {
   "cell_type": "code",
   "execution_count": 1,
   "id": "51441b53",
   "metadata": {},
   "outputs": [
    {
     "ename": "SyntaxError",
     "evalue": "invalid syntax (Temp/ipykernel_7576/1668889097.py, line 1)",
     "output_type": "error",
     "traceback": [
      "\u001b[1;36m  File \u001b[1;32m\"C:\\Users\\Naresh\\AppData\\Local\\Temp/ipykernel_7576/1668889097.py\"\u001b[1;36m, line \u001b[1;32m1\u001b[0m\n\u001b[1;33m    first name = 'naresh'\u001b[0m\n\u001b[1;37m          ^\u001b[0m\n\u001b[1;31mSyntaxError\u001b[0m\u001b[1;31m:\u001b[0m invalid syntax\n"
     ]
    }
   ],
   "source": [
    "first name = 'naresh'\n",
    "print(first name)"
   ]
  },
  {
   "cell_type": "code",
   "execution_count": 2,
   "id": "495c5eec",
   "metadata": {},
   "outputs": [
    {
     "name": "stdout",
     "output_type": "stream",
     "text": [
      "naresh\n"
     ]
    }
   ],
   "source": [
    "firstname = 'naresh'\n",
    "print(firstname)"
   ]
  },
  {
   "cell_type": "code",
   "execution_count": 3,
   "id": "cfe26893",
   "metadata": {},
   "outputs": [
    {
     "ename": "SyntaxError",
     "evalue": "invalid syntax (Temp/ipykernel_7576/2166891173.py, line 1)",
     "output_type": "error",
     "traceback": [
      "\u001b[1;36m  File \u001b[1;32m\"C:\\Users\\Naresh\\AppData\\Local\\Temp/ipykernel_7576/2166891173.py\"\u001b[1;36m, line \u001b[1;32m1\u001b[0m\n\u001b[1;33m    1name = \"naresh\"\u001b[0m\n\u001b[1;37m     ^\u001b[0m\n\u001b[1;31mSyntaxError\u001b[0m\u001b[1;31m:\u001b[0m invalid syntax\n"
     ]
    }
   ],
   "source": [
    "1name = \"naresh\"\n",
    "print(1name)"
   ]
  },
  {
   "cell_type": "code",
   "execution_count": 4,
   "id": "a356a524",
   "metadata": {},
   "outputs": [
    {
     "name": "stdout",
     "output_type": "stream",
     "text": [
      "Naresh\n"
     ]
    }
   ],
   "source": [
    "name1 = \"Naresh\"\n",
    "print(name1)"
   ]
  },
  {
   "cell_type": "code",
   "execution_count": null,
   "id": "f95013d4",
   "metadata": {},
   "outputs": [],
   "source": []
  },
  {
   "cell_type": "code",
   "execution_count": 6,
   "id": "4d592d9e",
   "metadata": {},
   "outputs": [
    {
     "ename": "SyntaxError",
     "evalue": "invalid syntax (Temp/ipykernel_7576/3920446316.py, line 1)",
     "output_type": "error",
     "traceback": [
      "\u001b[1;36m  File \u001b[1;32m\"C:\\Users\\Naresh\\AppData\\Local\\Temp/ipykernel_7576/3920446316.py\"\u001b[1;36m, line \u001b[1;32m1\u001b[0m\n\u001b[1;33m    name@ = \"naresh\"\u001b[0m\n\u001b[1;37m          ^\u001b[0m\n\u001b[1;31mSyntaxError\u001b[0m\u001b[1;31m:\u001b[0m invalid syntax\n"
     ]
    }
   ],
   "source": [
    "name@ = \"naresh\"\n",
    "print(name@)"
   ]
  },
  {
   "cell_type": "code",
   "execution_count": 7,
   "id": "8e6b9e5b",
   "metadata": {},
   "outputs": [
    {
     "name": "stdout",
     "output_type": "stream",
     "text": [
      "Do not include special chars in variables\n"
     ]
    }
   ],
   "source": [
    "print (\"Do not include special chars in variables\")"
   ]
  },
  {
   "cell_type": "code",
   "execution_count": 8,
   "id": "43496308",
   "metadata": {},
   "outputs": [],
   "source": [
    "#Please follow the above guidelines"
   ]
  },
  {
   "cell_type": "code",
   "execution_count": 9,
   "id": "7cd484ea",
   "metadata": {},
   "outputs": [
    {
     "name": "stdout",
     "output_type": "stream",
     "text": [
      "Naresh Raparthi\n"
     ]
    }
   ],
   "source": [
    "name1 = 'Naresh Raparthi'\n",
    "print(name1)"
   ]
  },
  {
   "cell_type": "code",
   "execution_count": 10,
   "id": "d564e704",
   "metadata": {},
   "outputs": [
    {
     "name": "stdout",
     "output_type": "stream",
     "text": [
      "Naresh Raparthi\n"
     ]
    }
   ],
   "source": [
    "name2 = \"Naresh Raparthi\"\n",
    "print(name2)"
   ]
  },
  {
   "cell_type": "code",
   "execution_count": 14,
   "id": "ed351e93",
   "metadata": {},
   "outputs": [
    {
     "name": "stdout",
     "output_type": "stream",
     "text": [
      "Naresh\n"
     ]
    }
   ],
   "source": [
    "name3 = '''Naresh'''\n",
    "print(name3)"
   ]
  },
  {
   "cell_type": "code",
   "execution_count": null,
   "id": "3a188490",
   "metadata": {},
   "outputs": [],
   "source": []
  }
 ],
 "metadata": {
  "kernelspec": {
   "display_name": "Python 3 (ipykernel)",
   "language": "python",
   "name": "python3"
  },
  "language_info": {
   "codemirror_mode": {
    "name": "ipython",
    "version": 3
   },
   "file_extension": ".py",
   "mimetype": "text/x-python",
   "name": "python",
   "nbconvert_exporter": "python",
   "pygments_lexer": "ipython3",
   "version": "3.9.7"
  }
 },
 "nbformat": 4,
 "nbformat_minor": 5
}
