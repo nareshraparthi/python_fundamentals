{
 "cells": [
  {
   "cell_type": "code",
   "execution_count": 7,
   "id": "ef0c5281",
   "metadata": {},
   "outputs": [],
   "source": [
    "full_name = 'naresh_raparthi'"
   ]
  },
  {
   "cell_type": "code",
   "execution_count": 8,
   "id": "eeaea318",
   "metadata": {},
   "outputs": [
    {
     "name": "stdout",
     "output_type": "stream",
     "text": [
      "naresh_raparthi\n"
     ]
    }
   ],
   "source": [
    "print(full_name)"
   ]
  },
  {
   "cell_type": "code",
   "execution_count": 10,
   "id": "be272208",
   "metadata": {},
   "outputs": [
    {
     "name": "stdout",
     "output_type": "stream",
     "text": [
      "Naresh_Raparthi\n"
     ]
    }
   ],
   "source": [
    "print(full_name.title())"
   ]
  },
  {
   "cell_type": "code",
   "execution_count": 11,
   "id": "994f8c47",
   "metadata": {},
   "outputs": [
    {
     "name": "stdout",
     "output_type": "stream",
     "text": [
      "NARESH_RAPARTHI\n"
     ]
    }
   ],
   "source": [
    "print(full_name.upper())"
   ]
  },
  {
   "cell_type": "code",
   "execution_count": 12,
   "id": "8844dfee",
   "metadata": {},
   "outputs": [
    {
     "name": "stdout",
     "output_type": "stream",
     "text": [
      "naresh_raparthi\n"
     ]
    }
   ],
   "source": [
    "print(full_name.lower())"
   ]
  },
  {
   "cell_type": "code",
   "execution_count": 13,
   "id": "ff738cea",
   "metadata": {},
   "outputs": [],
   "source": [
    "firstname = 'naresh'\n",
    "lastname = 'raparthi'"
   ]
  },
  {
   "cell_type": "code",
   "execution_count": 14,
   "id": "82e562d1",
   "metadata": {},
   "outputs": [],
   "source": [
    "full_name = f\" {firstname} {lastname}\""
   ]
  },
  {
   "cell_type": "code",
   "execution_count": 15,
   "id": "099e4bea",
   "metadata": {},
   "outputs": [
    {
     "name": "stdout",
     "output_type": "stream",
     "text": [
      " naresh raparthi\n"
     ]
    }
   ],
   "source": [
    "print(full_name)"
   ]
  },
  {
   "cell_type": "code",
   "execution_count": 16,
   "id": "fd42b6c2",
   "metadata": {},
   "outputs": [
    {
     "name": "stdout",
     "output_type": "stream",
     "text": [
      " Naresh Raparthi\n"
     ]
    }
   ],
   "source": [
    "print(full_name.title())"
   ]
  },
  {
   "cell_type": "code",
   "execution_count": 17,
   "id": "de9c1342",
   "metadata": {},
   "outputs": [],
   "source": [
    "message = f\" Great job Faiyaz, from {full_name.title()}\""
   ]
  },
  {
   "cell_type": "code",
   "execution_count": 18,
   "id": "c4ecc852",
   "metadata": {},
   "outputs": [
    {
     "name": "stdout",
     "output_type": "stream",
     "text": [
      " Great job Faiyaz, from  Naresh Raparthi\n"
     ]
    }
   ],
   "source": [
    "print(message)"
   ]
  },
  {
   "cell_type": "code",
   "execution_count": null,
   "id": "48b121a2",
   "metadata": {},
   "outputs": [],
   "source": []
  },
  {
   "cell_type": "code",
   "execution_count": 19,
   "id": "15d74d6a",
   "metadata": {},
   "outputs": [
    {
     "name": "stdout",
     "output_type": "stream",
     "text": [
      "favourite_lang:pythonjavacc++cobal\n"
     ]
    }
   ],
   "source": [
    "print(\"favourite_lang:pythonjavacc++cobal\")"
   ]
  },
  {
   "cell_type": "code",
   "execution_count": 20,
   "id": "05f265f9",
   "metadata": {},
   "outputs": [
    {
     "name": "stdout",
     "output_type": "stream",
     "text": [
      "favourite_lang:\n",
      "python\n",
      "java\n",
      "c\n",
      "c++\n",
      "cobal\n"
     ]
    }
   ],
   "source": [
    "print(\"favourite_lang:\\npython\\njava\\nc\\nc++\\ncobal\")"
   ]
  },
  {
   "cell_type": "code",
   "execution_count": 21,
   "id": "88a5ec76",
   "metadata": {},
   "outputs": [
    {
     "name": "stdout",
     "output_type": "stream",
     "text": [
      "favourite_lang:\tpython\tjava\tc\tc++\tcobal\n"
     ]
    }
   ],
   "source": [
    "print(\"favourite_lang:\\tpython\\tjava\\tc\\tc++\\tcobal\")"
   ]
  },
  {
   "cell_type": "code",
   "execution_count": 22,
   "id": "9348b44b",
   "metadata": {},
   "outputs": [
    {
     "name": "stdout",
     "output_type": "stream",
     "text": [
      "favourite_lan:\n",
      "\tpython\n",
      "\tjava\n",
      "\tc\n",
      "\tc\n",
      "\tc++\n",
      "\tcobal\n"
     ]
    }
   ],
   "source": [
    "print(\"favourite_lan:\\n\\tpython\\n\\tjava\\n\\tc\\n\\tc\\n\\tc++\\n\\tcobal\")"
   ]
  },
  {
   "cell_type": "code",
   "execution_count": null,
   "id": "4bdb5635",
   "metadata": {},
   "outputs": [],
   "source": []
  },
  {
   "cell_type": "code",
   "execution_count": 23,
   "id": "e8571440",
   "metadata": {},
   "outputs": [],
   "source": [
    "# removing the whitespaces"
   ]
  },
  {
   "cell_type": "code",
   "execution_count": 24,
   "id": "e9fc6ce8",
   "metadata": {},
   "outputs": [],
   "source": [
    "name = 'Ansible'"
   ]
  },
  {
   "cell_type": "code",
   "execution_count": 25,
   "id": "d33e7edd",
   "metadata": {},
   "outputs": [
    {
     "name": "stdout",
     "output_type": "stream",
     "text": [
      "Ansible\n"
     ]
    }
   ],
   "source": [
    "print(name)"
   ]
  },
  {
   "cell_type": "code",
   "execution_count": 26,
   "id": "5e905f55",
   "metadata": {},
   "outputs": [],
   "source": [
    "name2 = '    Ansible'"
   ]
  },
  {
   "cell_type": "code",
   "execution_count": 27,
   "id": "3a4df2a2",
   "metadata": {},
   "outputs": [
    {
     "name": "stdout",
     "output_type": "stream",
     "text": [
      "    Ansible\n"
     ]
    }
   ],
   "source": [
    "print(name2)"
   ]
  },
  {
   "cell_type": "code",
   "execution_count": 28,
   "id": "78eb4e5d",
   "metadata": {},
   "outputs": [],
   "source": [
    "name3 = 'Ansible   '"
   ]
  },
  {
   "cell_type": "code",
   "execution_count": 29,
   "id": "4eb1e3e7",
   "metadata": {},
   "outputs": [
    {
     "name": "stdout",
     "output_type": "stream",
     "text": [
      "Ansible   \n"
     ]
    }
   ],
   "source": [
    "print(name3)"
   ]
  },
  {
   "cell_type": "code",
   "execution_count": 30,
   "id": "52b6e1a1",
   "metadata": {},
   "outputs": [],
   "source": [
    "name4 = '  Ansible  java  '"
   ]
  },
  {
   "cell_type": "code",
   "execution_count": 31,
   "id": "ac2a6502",
   "metadata": {},
   "outputs": [
    {
     "name": "stdout",
     "output_type": "stream",
     "text": [
      "  Ansible  java  \n"
     ]
    }
   ],
   "source": [
    "print(name4)"
   ]
  },
  {
   "cell_type": "code",
   "execution_count": 33,
   "id": "a559f2a5",
   "metadata": {},
   "outputs": [
    {
     "name": "stdout",
     "output_type": "stream",
     "text": [
      "Ansible  java\n"
     ]
    }
   ],
   "source": [
    "print(name4.strip())"
   ]
  },
  {
   "cell_type": "code",
   "execution_count": null,
   "id": "245ad0a6",
   "metadata": {},
   "outputs": [],
   "source": []
  }
 ],
 "metadata": {
  "kernelspec": {
   "display_name": "Python 3 (ipykernel)",
   "language": "python",
   "name": "python3"
  },
  "language_info": {
   "codemirror_mode": {
    "name": "ipython",
    "version": 3
   },
   "file_extension": ".py",
   "mimetype": "text/x-python",
   "name": "python",
   "nbconvert_exporter": "python",
   "pygments_lexer": "ipython3",
   "version": "3.9.7"
  }
 },
 "nbformat": 4,
 "nbformat_minor": 5
}
